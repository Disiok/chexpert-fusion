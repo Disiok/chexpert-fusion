{
 "cells": [
  {
   "cell_type": "code",
   "execution_count": 1,
   "metadata": {},
   "outputs": [
    {
     "name": "stderr",
     "output_type": "stream",
     "text": [
      "/home/suo/.cache/bazel/_bazel_suo/179b959b51786362378d993292d897d3/execroot/__main__/bazel-out/release_links/lib/python_env/IPython/html.py:14: ShimWarning: The `IPython.html` package has been deprecated since IPython 4.0. You should import from `notebook` instead. `IPython.html.widgets` has moved to `ipywidgets`.\n",
      "  \"`IPython.html.widgets` has moved to `ipywidgets`.\", ShimWarning)\n"
     ]
    }
   ],
   "source": [
    "import sys\n",
    "import os \n",
    "import pandas as pd\n",
    "import numpy as np\n",
    "import seaborn as sns \n",
    "import matplotlib.pyplot as plt\n",
    "\n",
    "# NOTE(suo): Hack to enable non-package import\n",
    "sys.path.insert(0, '..')\n",
    "\n",
    "%matplotlib inline"
   ]
  },
  {
   "cell_type": "code",
   "execution_count": 2,
   "metadata": {},
   "outputs": [],
   "source": [
    "from data.datasets.paired_chexpert import PairedCheXpertDataset, PairedOnlyCheXpertDataset, PairedOnlyCustomSplit"
   ]
  },
  {
   "cell_type": "code",
   "execution_count": 3,
   "metadata": {},
   "outputs": [],
   "source": [
    "from config.chexpert import PAPER_TRAINING_CLASSES, CHEXPERT_CLASSES"
   ]
  },
  {
   "cell_type": "code",
   "execution_count": 46,
   "metadata": {},
   "outputs": [],
   "source": [
    "class_names = PAPER_TRAINING_CLASSES\n",
    "set_unobserved_to_negative = True"
   ]
  },
  {
   "cell_type": "code",
   "execution_count": 5,
   "metadata": {},
   "outputs": [
    {
     "name": "stdout",
     "output_type": "stream",
     "text": [
      "Cardiomegaly\n",
      "Edema\n",
      "Consolidation\n",
      "Atelectasis\n",
      "Pleural Effusion\n"
     ]
    }
   ],
   "source": [
    "for class_ in PAPER_TRAINING_CLASSES:\n",
    "    print(class_)"
   ]
  },
  {
   "cell_type": "markdown",
   "metadata": {},
   "source": [
    "# Load Data"
   ]
  },
  {
   "cell_type": "code",
   "execution_count": 7,
   "metadata": {},
   "outputs": [],
   "source": [
    "paired_only_dataset = PairedOnlyCheXpertDataset('/home/suo/data/CheXpert-v1.0', 'train', class_names, None, set_unobserved_to_negative)"
   ]
  },
  {
   "cell_type": "code",
   "execution_count": 49,
   "metadata": {},
   "outputs": [],
   "source": [
    "paired_dataset = PairedCheXpertDataset('/home/suo/data/CheXpert-v1.0', 'train', class_names, None, set_unobserved_to_negative)"
   ]
  },
  {
   "cell_type": "markdown",
   "metadata": {},
   "source": [
    "# Sanity Check for No Finding Class"
   ]
  },
  {
   "cell_type": "code",
   "execution_count": 29,
   "metadata": {},
   "outputs": [],
   "source": [
    "def sanity_check(dataset):\n",
    "    for study in dataset.studies:\n",
    "        if study['labels'][0] > 0 and sum(study['labels'][1:-1]) > 0:\n",
    "            raise ValueError"
   ]
  },
  {
   "cell_type": "code",
   "execution_count": 30,
   "metadata": {},
   "outputs": [],
   "source": [
    "if class_names == CHEXPERT_CLASSES:\n",
    "    sanity_check(paired_dataset)\n",
    "    sanity_check(paired_only_dataset)"
   ]
  },
  {
   "cell_type": "markdown",
   "metadata": {},
   "source": [
    "# Sanity Check for Distribution of Atelectasis Labels in Original Dataset"
   ]
  },
  {
   "cell_type": "code",
   "execution_count": 31,
   "metadata": {},
   "outputs": [
    {
     "data": {
      "text/plain": [
       "187641"
      ]
     },
     "execution_count": 31,
     "metadata": {},
     "output_type": "execute_result"
    }
   ],
   "source": [
    "len(paired_dataset)"
   ]
  },
  {
   "cell_type": "code",
   "execution_count": 32,
   "metadata": {},
   "outputs": [
    {
     "name": "stdout",
     "output_type": "stream",
     "text": [
      "Edema 48905 11571 127165\n"
     ]
    }
   ],
   "source": [
    "class_ind = 1\n",
    "\n",
    "positive_count = 0\n",
    "negative_count = 0\n",
    "unobserved = 0 \n",
    "for study in paired_dataset.studies:\n",
    "    if study['labels'][class_ind] == 1 and study['mask'][class_ind] == 1:\n",
    "        positive_count += 1\n",
    "    if study['labels'][class_ind] == 0 and study['mask'][class_ind] == 1:\n",
    "        negative_count += 1\n",
    "    if study['mask'][class_ind] == 0:\n",
    "        unobserved += 1\n",
    "print class_names[class_ind], positive_count, unobserved, negative_count"
   ]
  },
  {
   "cell_type": "code",
   "execution_count": 33,
   "metadata": {},
   "outputs": [],
   "source": [
    "df = pd.read_csv(os.path.join('/home/suo/data/CheXpert-v1.0-small', '{}.csv'.format('train')))"
   ]
  },
  {
   "cell_type": "code",
   "execution_count": 34,
   "metadata": {},
   "outputs": [
    {
     "name": "stdout",
     "output_type": "stream",
     "text": [
      "Number of nans in the dataset before pairing:  152792\n"
     ]
    }
   ],
   "source": [
    "print 'Number of nans in the dataset before pairing: ', len(df[df['Consolidation'].isnull()])"
   ]
  },
  {
   "cell_type": "markdown",
   "metadata": {},
   "source": [
    "# Compare Label Distribution"
   ]
  },
  {
   "cell_type": "code",
   "execution_count": 35,
   "metadata": {},
   "outputs": [],
   "source": [
    "def get_dist(studies):\n",
    "    label_count_zero = np.zeros(len(class_names))\n",
    "    label_count_one = np.zeros(len(class_names))\n",
    "\n",
    "    for study in studies:\n",
    "        label_count_zero += (study['labels'] == 0) * study['mask']\n",
    "        label_count_one += (study['labels'] == 1) * study['mask']\n",
    "\n",
    "    label_count_total = label_count_one + label_count_zero\n",
    "    \n",
    "    return label_count_one / label_count_total"
   ]
  },
  {
   "cell_type": "code",
   "execution_count": 36,
   "metadata": {
    "scrolled": true
   },
   "outputs": [
    {
     "name": "stdout",
     "output_type": "stream",
     "text": [
      "[ 0.11542169  0.08040781  0.06151935  0.12787715  0.30607596]\n"
     ]
    }
   ],
   "source": [
    "paired_positive_ratio = get_dist(paired_only_dataset.studies)\n",
    "print paired_positive_ratio"
   ]
  },
  {
   "cell_type": "code",
   "execution_count": 48,
   "metadata": {
    "scrolled": true
   },
   "outputs": [
    {
     "name": "stdout",
     "output_type": "stream",
     "text": [
      "[ 0.33   0.21   0.16   0.375  0.32 ]\n"
     ]
    }
   ],
   "source": [
    "population_positive_ratio = get_dist(paired_dataset.studies)\n",
    "print population_positive_ratio"
   ]
  },
  {
   "cell_type": "code",
   "execution_count": 39,
   "metadata": {},
   "outputs": [
    {
     "data": {
      "image/png": "[encoded data removed]",
      "text/plain": [
       "<Figure size 432x288 with 1 Axes>"
      ]
     },
     "metadata": {},
     "output_type": "display_data"
    }
   ],
   "source": [
    "sns.barplot(range(len(paired_positive_ratio)), (paired_positive_ratio - population_positive_ratio) * 100)\n",
    "plt.ylabel('Change in percentage of positive labels')\n",
    "plt.xticks(range(len(paired_positive_ratio)), class_names, rotation=90)\n",
    "plt.title('Paired Only vs. All')\n",
    "plt.show()"
   ]
  },
  {
   "cell_type": "markdown",
   "metadata": {},
   "source": [
    "# Check Splits"
   ]
  },
  {
   "cell_type": "code",
   "execution_count": 40,
   "metadata": {},
   "outputs": [
    {
     "name": "stdout",
     "output_type": "stream",
     "text": [
      "[ 0.11542169  0.08040781  0.06151935  0.12787715  0.30607596]\n"
     ]
    }
   ],
   "source": [
    "all_ = get_dist(paired_only_dataset.studies)\n",
    "print all_"
   ]
  },
  {
   "cell_type": "code",
   "execution_count": 41,
   "metadata": {},
   "outputs": [
    {
     "name": "stdout",
     "output_type": "stream",
     "text": [
      "[ 0.11532704  0.07998203  0.06105083  0.1277698   0.30531115]\n"
     ]
    }
   ],
   "source": [
    "train_split = get_dist(paired_only_dataset.studies[:30000])\n",
    "print train_split"
   ]
  },
  {
   "cell_type": "code",
   "execution_count": 42,
   "metadata": {},
   "outputs": [
    {
     "name": "stdout",
     "output_type": "stream",
     "text": [
      "[ 0.11982249  0.09370425  0.05079365  0.12741935  0.31825038]\n"
     ]
    }
   ],
   "source": [
    "valid_split = get_dist(paired_only_dataset.studies[30000:30707])\n",
    "print valid_split"
   ]
  },
  {
   "cell_type": "code",
   "execution_count": 43,
   "metadata": {},
   "outputs": [
    {
     "name": "stdout",
     "output_type": "stream",
     "text": [
      "[ 0.11504425  0.08516887  0.09235669  0.13300493  0.32592593]\n"
     ]
    }
   ],
   "source": [
    "train_split = get_dist(paired_only_dataset.studies[30707:])\n",
    "print train_split"
   ]
  },
  {
   "cell_type": "code",
   "execution_count": 44,
   "metadata": {
    "scrolled": true
   },
   "outputs": [
    {
     "data": {
      "text/plain": [
       "31413"
      ]
     },
     "execution_count": 44,
     "metadata": {},
     "output_type": "execute_result"
    }
   ],
   "source": [
    "len(paired_only_dataset)"
   ]
  },
  {
   "cell_type": "code",
   "execution_count": null,
   "metadata": {},
   "outputs": [],
   "source": []
  }
 ],
 "metadata": {
  "kernelspec": {
   "display_name": "Python 2",
   "language": "python",
   "name": "python2"
  },
  "language_info": {
   "codemirror_mode": {
    "name": "ipython",
    "version": 2
   },
   "file_extension": ".py",
   "mimetype": "text/x-python",
   "name": "python",
   "nbconvert_exporter": "python",
   "pygments_lexer": "ipython2",
   "version": "2.7.6"
  }
 },
 "nbformat": 4,
 "nbformat_minor": 2
}
