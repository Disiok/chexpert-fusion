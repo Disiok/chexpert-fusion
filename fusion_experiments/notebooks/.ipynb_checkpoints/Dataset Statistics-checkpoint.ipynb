{
 "cells": [
  {
   "cell_type": "code",
   "execution_count": 1,
   "metadata": {},
   "outputs": [
    {
     "name": "stderr",
     "output_type": "stream",
     "text": [
      "/home/suo/.cache/bazel/_bazel_suo/179b959b51786362378d993292d897d3/execroot/__main__/bazel-out/release_links/lib/python_env/IPython/html.py:14: ShimWarning: The `IPython.html` package has been deprecated since IPython 4.0. You should import from `notebook` instead. `IPython.html.widgets` has moved to `ipywidgets`.\n",
      "  \"`IPython.html.widgets` has moved to `ipywidgets`.\", ShimWarning)\n"
     ]
    }
   ],
   "source": [
    "import sys\n",
    "import os \n",
    "import pandas as pd\n",
    "import numpy as np\n",
    "import seaborn as sns \n",
    "import matplotlib.pyplot as plt\n",
    "\n",
    "# NOTE(suo): Hack to enable non-package import\n",
    "sys.path.insert(0, '..')\n",
    "\n",
    "%matplotlib inline"
   ]
  },
  {
   "cell_type": "code",
   "execution_count": 3,
   "metadata": {},
   "outputs": [],
   "source": [
    "from data.datasets.paired_chexpert import PairedCheXpertDataset, PairedOnlyCheXpertDataset, PairedOnlyCustomSplit"
   ]
  },
  {
   "cell_type": "code",
   "execution_count": 4,
   "metadata": {},
   "outputs": [],
   "source": [
    "class_names = [\n",
    "        'No Finding',\n",
    "        'Enlarged Cardiomediastinum',\n",
    "        'Cardiomegaly',\n",
    "        'Lung Opacity',\n",
    "        'Lung Lesion',\n",
    "        'Edema',\n",
    "        'Consolidation',\n",
    "        'Pneumonia',\n",
    "        'Atelectasis',\n",
    "        'Pneumothorax',\n",
    "        'Pleural Effusion',\n",
    "        'Pleural Other',\n",
    "        'Fracture',\n",
    "        'Support Devices'\n",
    "    ]"
   ]
  },
  {
   "cell_type": "code",
   "execution_count": null,
   "metadata": {},
   "outputs": [],
   "source": [
    "paired_only_dataset = PairedOnlyCheXpertDataset('/home/suo/data/CheXpert-v1.0', 'train', class_names, None)"
   ]
  },
  {
   "cell_type": "code",
   "execution_count": null,
   "metadata": {},
   "outputs": [],
   "source": [
    "paired_dataset = PairedCheXpertDataset('/home/suo/data/CheXpert-v1.0', 'train', class_names, None)"
   ]
  },
  {
   "cell_type": "code",
   "execution_count": 190,
   "metadata": {},
   "outputs": [],
   "source": [
    "def sanity_check(dataset):\n",
    "    for study in dataset.studies:\n",
    "        if study['labels'][0] > 0 and sum(study['labels'][1:-1]) > 0:\n",
    "            raise ValueError"
   ]
  },
  {
   "cell_type": "code",
   "execution_count": 191,
   "metadata": {},
   "outputs": [],
   "source": [
    "sanity_check(paired_dataset)\n",
    "sanity_check(paired_only_dataset)"
   ]
  },
  {
   "cell_type": "code",
   "execution_count": 192,
   "metadata": {},
   "outputs": [],
   "source": [
    "def get_dist(studies):\n",
    "    label_count_zero = np.zeros(14)\n",
    "    label_count_one = np.zeros(14)\n",
    "\n",
    "    for study in studies:\n",
    "        label_count_zero += (study['labels'] == 0) * study['mask']\n",
    "        label_count_one += (study['labels'] == 1) * study['mask']\n",
    "\n",
    "    label_count_total = label_count_one + label_count_zero\n",
    "    \n",
    "    return label_count_one / label_count_total"
   ]
  },
  {
   "cell_type": "code",
   "execution_count": 196,
   "metadata": {
    "scrolled": true
   },
   "outputs": [
    {
     "name": "stdout",
     "output_type": "stream",
     "text": [
      "[ 0.38709677  0.12903226  0.06451613  0.29032258  0.          0.09677419\n",
      "  0.03225806  0.          0.16129032  0.03225806  0.09677419  0.          0.\n",
      "  0.25806452]\n"
     ]
    }
   ],
   "source": [
    "paired_positive_ratio = get_dist(paired_only_dataset.studies)\n",
    "print paired_positive_ratio"
   ]
  },
  {
   "cell_type": "code",
   "execution_count": 197,
   "metadata": {},
   "outputs": [
    {
     "name": "stdout",
     "output_type": "stream",
     "text": [
      "[ 0.13   0.525  0.33   0.58   0.005  0.21   0.16   0.04   0.375  0.03   0.32\n",
      "  0.005  0.     0.495]\n"
     ]
    }
   ],
   "source": [
    "population_positive_ratio = get_dist(paired_dataset.studies)\n",
    "print population_positive_ratio"
   ]
  },
  {
   "cell_type": "code",
   "execution_count": 198,
   "metadata": {},
   "outputs": [
    {
     "data": {
      "text/plain": [
       "Text(0.5,1,'Paired Only vs. All')"
      ]
     },
     "execution_count": 198,
     "metadata": {},
     "output_type": "execute_result"
    },
    {
     "data": {
      "image/png": "[encoded data removed]",
      "text/plain": [
       "<Figure size 432x288 with 1 Axes>"
      ]
     },
     "metadata": {},
     "output_type": "display_data"
    }
   ],
   "source": [
    "sns.barplot(range(len(paired_positive_ratio)), (paired_positive_ratio - population_positive_ratio) * 100)\n",
    "plt.ylabel('Change in percentage of positive labels')\n",
    "plt.xticks(range(len(paired_only_positive_ratio)), class_names, rotation=90)\n",
    "plt.title('Paired Only vs. All')"
   ]
  },
  {
   "cell_type": "markdown",
   "metadata": {},
   "source": [
    "# Check Splits"
   ]
  },
  {
   "cell_type": "code",
   "execution_count": 216,
   "metadata": {},
   "outputs": [
    {
     "name": "stdout",
     "output_type": "stream",
     "text": [
      "[ 1.          0.37320697  0.74422442  0.94975482  0.90627615  0.75987607\n",
      "  0.39307811  0.70915619  0.96661798  0.2659345   0.75109602  0.89104116\n",
      "  0.78771331  0.95389911]\n"
     ]
    }
   ],
   "source": [
    "train_split = get_dist(paired_dataset.studies[:30000])\n",
    "print train_split"
   ]
  },
  {
   "cell_type": "code",
   "execution_count": 219,
   "metadata": {},
   "outputs": [
    {
     "name": "stdout",
     "output_type": "stream",
     "text": [
      "[ 1.          0.34482759  0.75968992  0.94571429  0.95454545  0.75210084\n",
      "  0.36885246  0.73684211  0.96825397  0.25102881  0.75129534  0.90909091\n",
      "  0.74193548  0.96287703]\n"
     ]
    }
   ],
   "source": [
    "train_split = get_dist(paired_dataset.studies[30000:30700])\n",
    "print train_split"
   ]
  },
  {
   "cell_type": "code",
   "execution_count": 221,
   "metadata": {},
   "outputs": [
    {
     "name": "stdout",
     "output_type": "stream",
     "text": [
      "[ 1.          0.37550471  0.74973773  0.94923067  0.90001565  0.7569159\n",
      "  0.39986486  0.71493556  0.96683844  0.26986896  0.75335628  0.92802519\n",
      "  0.78894212  0.95239684]\n"
     ]
    }
   ],
   "source": [
    "train_split = get_dist(paired_dataset.studies[30700:])\n",
    "print train_split"
   ]
  },
  {
   "cell_type": "code",
   "execution_count": 222,
   "metadata": {},
   "outputs": [
    {
     "data": {
      "text/plain": [
       "31413"
      ]
     },
     "execution_count": 222,
     "metadata": {},
     "output_type": "execute_result"
    }
   ],
   "source": [
    "len(paired_only_dataset)"
   ]
  },
  {
   "cell_type": "code",
   "execution_count": null,
   "metadata": {},
   "outputs": [],
   "source": []
  }
 ],
 "metadata": {
  "kernelspec": {
   "display_name": "Python 2",
   "language": "python",
   "name": "python2"
  },
  "language_info": {
   "codemirror_mode": {
    "name": "ipython",
    "version": 2
   },
   "file_extension": ".py",
   "mimetype": "text/x-python",
   "name": "python",
   "nbconvert_exporter": "python",
   "pygments_lexer": "ipython2",
   "version": "2.7.6"
  }
 },
 "nbformat": 4,
 "nbformat_minor": 2
}
