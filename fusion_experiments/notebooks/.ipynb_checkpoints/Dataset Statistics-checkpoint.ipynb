{
 "cells": [
  {
   "cell_type": "code",
   "execution_count": 7,
   "metadata": {},
   "outputs": [],
   "source": [
    "import sys\n",
    "import os \n",
    "import pandas as pd\n",
    "import numpy as np\n",
    "import seaborn as sns \n",
    "import matplotlib.pyplot as plt\n",
    "\n",
    "# NOTE(suo): Hack to enable non-package import\n",
    "sys.path.insert(0, '..')\n",
    "\n",
    "%matplotlib inline"
   ]
  },
  {
   "cell_type": "code",
   "execution_count": 3,
   "metadata": {},
   "outputs": [],
   "source": [
    "from data.datasets.paired_chexpert import PairedCheXpertDataset, PairedOnlyCheXpertDataset, PairedOnlyCustomSplit"
   ]
  },
  {
   "cell_type": "code",
   "execution_count": 21,
   "metadata": {},
   "outputs": [],
   "source": [
    "from config.chexpert import PAPER_TRAINING_CLASSES, CHEXPERT_CLASSES"
   ]
  },
  {
   "cell_type": "code",
   "execution_count": 13,
   "metadata": {},
   "outputs": [],
   "source": [
    "class_names = PAPER_TRAINING_CLASSES"
   ]
  },
  {
   "cell_type": "code",
   "execution_count": 40,
   "metadata": {},
   "outputs": [
    {
     "name": "stdout",
     "output_type": "stream",
     "text": [
      "Cardiomegaly\n",
      "Edema\n",
      "Consolidation\n",
      "Atelectasis\n",
      "Pleural Effusion\n"
     ]
    }
   ],
   "source": [
    "for class_ in PAPER_TRAINING_CLASSES:\n",
    "    print(class_)"
   ]
  },
  {
   "cell_type": "markdown",
   "metadata": {},
   "source": [
    "# Load Data"
   ]
  },
  {
   "cell_type": "code",
   "execution_count": 14,
   "metadata": {},
   "outputs": [],
   "source": [
    "paired_only_dataset = PairedOnlyCheXpertDataset('/home/suo/data/CheXpert-v1.0', 'train', class_names, None)"
   ]
  },
  {
   "cell_type": "code",
   "execution_count": 15,
   "metadata": {},
   "outputs": [],
   "source": [
    "paired_dataset = PairedCheXpertDataset('/home/suo/data/CheXpert-v1.0', 'train', class_names, None)"
   ]
  },
  {
   "cell_type": "markdown",
   "metadata": {},
   "source": [
    "# Sanity Check for No Finding Class"
   ]
  },
  {
   "cell_type": "code",
   "execution_count": 23,
   "metadata": {},
   "outputs": [],
   "source": [
    "def sanity_check(dataset):\n",
    "    for study in dataset.studies:\n",
    "        if study['labels'][0] > 0 and sum(study['labels'][1:-1]) > 0:\n",
    "            raise ValueError"
   ]
  },
  {
   "cell_type": "code",
   "execution_count": 24,
   "metadata": {},
   "outputs": [],
   "source": [
    "if class_names == CHEXPERT_CLASSES:\n",
    "    sanity_check(paired_dataset)\n",
    "    sanity_check(paired_only_dataset)"
   ]
  },
  {
   "cell_type": "markdown",
   "metadata": {},
   "source": [
    "# Compare Label Distribution"
   ]
  },
  {
   "cell_type": "code",
   "execution_count": 27,
   "metadata": {},
   "outputs": [],
   "source": [
    "def get_dist(studies):\n",
    "    label_count_zero = np.zeros(len(class_names))\n",
    "    label_count_one = np.zeros(len(class_names))\n",
    "\n",
    "    for study in studies:\n",
    "        label_count_zero += (study['labels'] == 0) * study['mask']\n",
    "        label_count_one += (study['labels'] == 1) * study['mask']\n",
    "\n",
    "    label_count_total = label_count_one + label_count_zero\n",
    "    \n",
    "    return label_count_one / label_count_total"
   ]
  },
  {
   "cell_type": "code",
   "execution_count": 28,
   "metadata": {
    "scrolled": true
   },
   "outputs": [
    {
     "name": "stdout",
     "output_type": "stream",
     "text": [
      "[ 0.52234091  0.34251581  0.17343875  0.92281617  0.47750902]\n"
     ]
    }
   ],
   "source": [
    "paired_positive_ratio = get_dist(paired_only_dataset.studies)\n",
    "print paired_positive_ratio"
   ]
  },
  {
   "cell_type": "code",
   "execution_count": 29,
   "metadata": {},
   "outputs": [
    {
     "name": "stdout",
     "output_type": "stream",
     "text": [
      "[ 0.74890929  0.75737162  0.39864717  0.96680949  0.75298424]\n"
     ]
    }
   ],
   "source": [
    "population_positive_ratio = get_dist(paired_dataset.studies)\n",
    "print population_positive_ratio"
   ]
  },
  {
   "cell_type": "code",
   "execution_count": 36,
   "metadata": {},
   "outputs": [
    {
     "data": {
      "image/png": "[encoded data removed]",
      "text/plain": [
       "<Figure size 432x288 with 1 Axes>"
      ]
     },
     "metadata": {},
     "output_type": "display_data"
    }
   ],
   "source": [
    "sns.barplot(range(len(paired_positive_ratio)), (paired_positive_ratio - population_positive_ratio) * 100)\n",
    "plt.ylabel('Change in percentage of positive labels')\n",
    "plt.xticks(range(len(paired_positive_ratio)), class_names, rotation=90)\n",
    "plt.title('Paired Only vs. All')\n",
    "plt.show()"
   ]
  },
  {
   "cell_type": "markdown",
   "metadata": {},
   "source": [
    "# Check Splits"
   ]
  },
  {
   "cell_type": "code",
   "execution_count": 42,
   "metadata": {},
   "outputs": [
    {
     "name": "stdout",
     "output_type": "stream",
     "text": [
      "[ 0.52234091  0.34251581  0.17343875  0.92281617  0.47750902]\n"
     ]
    }
   ],
   "source": [
    "all_ = get_dist(paired_only_dataset.studies)\n",
    "print all_"
   ]
  },
  {
   "cell_type": "code",
   "execution_count": 43,
   "metadata": {},
   "outputs": [
    {
     "name": "stdout",
     "output_type": "stream",
     "text": [
      "[ 0.52132179  0.34029105  0.17252967  0.92221616  0.47582302]\n"
     ]
    }
   ],
   "source": [
    "train_split = get_dist(paired_only_dataset.studies[:30000])\n",
    "print train_split"
   ]
  },
  {
   "cell_type": "code",
   "execution_count": 49,
   "metadata": {},
   "outputs": [
    {
     "name": "stdout",
     "output_type": "stream",
     "text": [
      "[ 0.57042254  0.4         0.14545455  0.95180723  0.50238095]\n"
     ]
    }
   ],
   "source": [
    "valid_split = get_dist(paired_only_dataset.studies[30000:30707])\n",
    "print valid_split"
   ]
  },
  {
   "cell_type": "code",
   "execution_count": 48,
   "metadata": {},
   "outputs": [
    {
     "name": "stdout",
     "output_type": "stream",
     "text": [
      "[ 0.52        0.38157895  0.23293173  0.92045455  0.52505967]\n"
     ]
    }
   ],
   "source": [
    "train_split = get_dist(paired_only_dataset.studies[30707:])\n",
    "print train_split"
   ]
  },
  {
   "cell_type": "code",
   "execution_count": 50,
   "metadata": {
    "scrolled": true
   },
   "outputs": [
    {
     "data": {
      "text/plain": [
       "31413"
      ]
     },
     "execution_count": 50,
     "metadata": {},
     "output_type": "execute_result"
    }
   ],
   "source": [
    "len(paired_only_dataset)"
   ]
  }
 ],
 "metadata": {
  "kernelspec": {
   "display_name": "Python 2",
   "language": "python",
   "name": "python2"
  },
  "language_info": {
   "codemirror_mode": {
    "name": "ipython",
    "version": 2
   },
   "file_extension": ".py",
   "mimetype": "text/x-python",
   "name": "python",
   "nbconvert_exporter": "python",
   "pygments_lexer": "ipython2",
   "version": "2.7.6"
  }
 },
 "nbformat": 4,
 "nbformat_minor": 2
}
