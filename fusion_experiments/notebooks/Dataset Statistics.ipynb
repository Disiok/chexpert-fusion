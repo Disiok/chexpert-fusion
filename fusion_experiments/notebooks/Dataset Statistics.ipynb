{
 "cells": [
  {
   "cell_type": "code",
   "execution_count": 98,
   "metadata": {},
   "outputs": [],
   "source": [
    "import sys\n",
    "import os \n",
    "import pandas as pd\n",
    "import numpy as np\n",
    "import seaborn as sns \n",
    "import matplotlib.pyplot as plt\n",
    "\n",
    "# NOTE(suo): Hack to enable non-package import\n",
    "sys.path.insert(0, '..')\n",
    "\n",
    "%matplotlib inline"
   ]
  },
  {
   "cell_type": "code",
   "execution_count": 53,
   "metadata": {},
   "outputs": [],
   "source": [
    "from data.datasets.paired_chexpert import PairedCheXpertDataset, PairedOnlyCheXpertDataset"
   ]
  },
  {
   "cell_type": "code",
   "execution_count": 54,
   "metadata": {},
   "outputs": [],
   "source": [
    "class_names = [\n",
    "        'No Finding',\n",
    "        'Enlarged Cardiomediastinum',\n",
    "        'Cardiomegaly',\n",
    "        'Lung Opacity',\n",
    "        'Lung Lesion',\n",
    "        'Edema',\n",
    "        'Consolidation',\n",
    "        'Pneumonia',\n",
    "        'Atelectasis',\n",
    "        'Pneumothorax',\n",
    "        'Pleural Effusion',\n",
    "        'Pleural Other',\n",
    "        'Fracture',\n",
    "        'Support Devices'\n",
    "    ]"
   ]
  },
  {
   "cell_type": "code",
   "execution_count": 78,
   "metadata": {},
   "outputs": [],
   "source": [
    "paired_only_dataset = PairedOnlyCheXpertDataset('/home/suo/data/CheXpert-v1.0', 'train', class_names, None)"
   ]
  },
  {
   "cell_type": "code",
   "execution_count": null,
   "metadata": {},
   "outputs": [],
   "source": [
    "paired_dataset = paired_only_dataset = PairedCheXpertDataset('/home/suo/data/CheXpert-v1.0', 'train', class_names, None)"
   ]
  },
  {
   "cell_type": "code",
   "execution_count": 110,
   "metadata": {},
   "outputs": [],
   "source": [
    "def get_dist(dataset):\n",
    "    label_count_zero = np.zeros(14)\n",
    "    label_count_one = np.zeros(14)\n",
    "\n",
    "    for study in dataset.studies:\n",
    "        label_count_zero += (study['labels'] == 0) * study['mask']\n",
    "        label_count_one += (study['labels'] == 1) * study['mask']\n",
    "\n",
    "    label_count_total = label_count_one + label_count_zero\n",
    "    \n",
    "    return label_count_one / label_count_total"
   ]
  },
  {
   "cell_type": "code",
   "execution_count": 118,
   "metadata": {
    "scrolled": true
   },
   "outputs": [
    {
     "name": "stdout",
     "output_type": "stream",
     "text": [
      "[ 1.          0.20170785  0.52234091  0.87885586  0.81235431  0.34251581\n",
      "  0.17343875  0.59449707  0.92281617  0.17036815  0.47750902  0.90299184\n",
      "  0.75564279  0.91726426]\n",
      "[ 1.          0.20170785  0.52234091  0.87885586  0.81235431  0.34251581\n",
      "  0.17343875  0.59449707  0.92281617  0.17036815  0.47750902  0.90299184\n",
      "  0.75564279  0.91726426]\n"
     ]
    }
   ],
   "source": [
    "paired_positive_ratio = get_dist(paired_only_dataset)\n",
    "print paired_positive_ratio"
   ]
  },
  {
   "cell_type": "code",
   "execution_count": 119,
   "metadata": {},
   "outputs": [
    {
     "name": "stdout",
     "output_type": "stream",
     "text": [
      "[ 1.          0.37502079  0.74890929  0.94930238  0.90115668  0.75737162\n",
      "  0.39864717  0.71399594  0.96680949  0.26917396  0.75298424  0.92217605\n",
      "  0.78858878  0.95267716]\n",
      "[ 1.          0.37502079  0.74890929  0.94930238  0.90115668  0.75737162\n",
      "  0.39864717  0.71399594  0.96680949  0.26917396  0.75298424  0.92217605\n",
      "  0.78858878  0.95267716]\n"
     ]
    }
   ],
   "source": [
    "population_positive_ratio = get_dist(paired_dataset)\n",
    "print population_positive_ratio"
   ]
  },
  {
   "cell_type": "code",
   "execution_count": 133,
   "metadata": {},
   "outputs": [
    {
     "data": {
      "text/plain": [
       "Text(0.5,1,'Delta percentage Positive Labels (paired only - all)')"
      ]
     },
     "execution_count": 133,
     "metadata": {},
     "output_type": "execute_result"
    },
    {
     "data": {
      "image/png": "[encoded data removed]",
      "text/plain": [
       "<Figure size 432x288 with 1 Axes>"
      ]
     },
     "metadata": {},
     "output_type": "display_data"
    }
   ],
   "source": [
    "sns.barplot(range(len(paired_positive_ratio)), (paired_positive_ratio - population_positive_ratio) * 100)\n",
    "plt.ylabel('Change in percentage of positive labels')\n",
    "plt.xticks(range(len(paired_only_positive_ratio)), class_names, rotation=90)\n",
    "plt.title('Delta percentage Positive Labels (paired only - all)')"
   ]
  },
  {
   "cell_type": "code",
   "execution_count": null,
   "metadata": {},
   "outputs": [],
   "source": []
  }
 ],
 "metadata": {
  "kernelspec": {
   "display_name": "Python 2",
   "language": "python",
   "name": "python2"
  },
  "language_info": {
   "codemirror_mode": {
    "name": "ipython",
    "version": 2
   },
   "file_extension": ".py",
   "mimetype": "text/x-python",
   "name": "python",
   "nbconvert_exporter": "python",
   "pygments_lexer": "ipython2",
   "version": "2.7.6"
  }
 },
 "nbformat": 4,
 "nbformat_minor": 2
}
