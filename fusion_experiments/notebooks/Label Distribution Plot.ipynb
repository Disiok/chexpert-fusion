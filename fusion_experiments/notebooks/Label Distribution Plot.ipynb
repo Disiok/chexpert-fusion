{
 "cells": [
  {
   "cell_type": "code",
   "execution_count": 12,
   "metadata": {},
   "outputs": [
    {
     "name": "stderr",
     "output_type": "stream",
     "text": [
      "/home/kelvin.wong/.cache/bazel/_bazel_kelvin.wong/47fc07a62b8a2107c2e1b04eb7772dd1/execroot/__main__/bazel-out/release_links/lib/python_env/IPython/html.py:14: ShimWarning: The `IPython.html` package has been deprecated since IPython 4.0. You should import from `notebook` instead. `IPython.html.widgets` has moved to `ipywidgets`.\n",
      "  \"`IPython.html.widgets` has moved to `ipywidgets`.\", ShimWarning)\n"
     ]
    }
   ],
   "source": [
    "import sys\n",
    "sys.path.append('/home/kelvin.wong/Developer/chexpert-fusion/fusion_experiments')\n",
    "\n",
    "import os\n",
    "import torch\n",
    "import numpy as np\n",
    "import pandas as pd\n",
    "import seaborn as sns\n",
    "import matplotlib.pyplot as plt\n",
    "\n",
    "%matplotlib inline"
   ]
  },
  {
   "cell_type": "code",
   "execution_count": 223,
   "metadata": {},
   "outputs": [],
   "source": [
    "from config.chexpert import CHEXPERT_CLASSES\n",
    "from config.chexpert import PAPER_TRAINING_CLASSES\n",
    "from data.datasets.paired_chexpert import PairedCheXpertDataset\n",
    "from data.datasets.paired_chexpert import PairedOnlyCheXpertDataset\n",
    "from data.datasets.paired_chexpert import PairedOnlyCustomSplit\n",
    "\n",
    "MODE = 'train'\n",
    "CLASS_NAMES = PAPER_TRAINING_CLASSES\n",
    "DATASET_PATH = '/home/kelvin.wong/Datasets/CheXpert-v1.0'\n",
    "SET_UNOBSERVED_TO_NEGATIVE = True\n",
    "\n",
    "dataset1 = PairedCheXpertDataset(DATASET_PATH, MODE, CLASS_NAMES, None, SET_UNOBSERVED_TO_NEGATIVE)\n",
    "dataset2 = PairedOnlyCheXpertDataset(DATASET_PATH, MODE, CLASS_NAMES, None, SET_UNOBSERVED_TO_NEGATIVE)"
   ]
  },
  {
   "cell_type": "code",
   "execution_count": 240,
   "metadata": {},
   "outputs": [],
   "source": [
    "train_dataset = PairedOnlyCustomSplit(DATASET_PATH, 'train', CLASS_NAMES, None, SET_UNOBSERVED_TO_NEGATIVE)\n",
    "valid_dataset = PairedOnlyCustomSplit(DATASET_PATH, 'test', CLASS_NAMES, None, SET_UNOBSERVED_TO_NEGATIVE)"
   ]
  },
  {
   "cell_type": "code",
   "execution_count": 243,
   "metadata": {},
   "outputs": [],
   "source": [
    "train_patients = set([])\n",
    "train_patient_studies = {}\n",
    "for study in train_dataset.studies:\n",
    "    train_patients.add(study['patient'])\n",
    "    train_patient_studies[study['patient']] = study\n",
    "    \n",
    "valid_patients = set([])\n",
    "valid_patient_studies = {}\n",
    "for study in valid_dataset.studies:\n",
    "    valid_patients.add(study['patient'])\n",
    "    valid_patient_studies[study['patient']] = study"
   ]
  },
  {
   "cell_type": "code",
   "execution_count": 252,
   "metadata": {},
   "outputs": [
    {
     "name": "stdout",
     "output_type": "stream",
     "text": [
      "patient18283\n",
      "{'patient': 'patient18283', 'frontal': 'CheXpert-v1.0/train/patient18283/study10/view1_frontal.jpg', 'lateral': 'CheXpert-v1.0/train/patient18283/study10/view2_lateral.jpg', 'labels': array([ 1.,  0.,  0.,  0.,  0.], dtype=float32), 'mask': array([ 1.,  1.,  1.,  1.,  1.], dtype=float32), 'study_id': 'study10'}\n",
      "{'patient': 'patient18283', 'frontal': 'CheXpert-v1.0/train/patient18283/study19/view1_frontal.jpg', 'lateral': 'CheXpert-v1.0/train/patient18283/study19/view2_lateral.jpg', 'labels': array([ 1.,  1.,  0.,  0.,  0.], dtype=float32), 'mask': array([ 1.,  1.,  1.,  1.,  1.], dtype=float32), 'study_id': 'study19'}\n"
     ]
    }
   ],
   "source": [
    "\n",
    "print(list(train_patients.intersection(valid_patients))[3])\n",
    "print(train_patient_studies['patient18283'])\n",
    "print(valid_patient_studies['patient18283'])"
   ]
  },
  {
   "cell_type": "code",
   "execution_count": 211,
   "metadata": {},
   "outputs": [
    {
     "name": "stdout",
     "output_type": "stream",
     "text": [
      "Negatives: [ 158042.  127165.  150935.  128931.  102526.]\n",
      "Positives: [ 23002.  48905.  12730.  29333.  75696.]\n",
      "Total: [ 187641.  187641.  187641.  187641.  187641.]\n"
     ]
    }
   ],
   "source": [
    "LABEL_DISTRIBUTION1 = [np.zeros(len(CLASS_NAMES)), np.zeros(len(CLASS_NAMES)), np.zeros(len(CLASS_NAMES))]\n",
    "\n",
    "for study in dataset1.studies:\n",
    "    LABEL_DISTRIBUTION1[0] += (study['labels'] == 0) * study['mask']\n",
    "    LABEL_DISTRIBUTION1[1] += (study['labels'] == 1) * study['mask']\n",
    "    LABEL_DISTRIBUTION1[2] += np.ones_like(study['labels'])\n",
    "    \n",
    "print('Negatives: {}'.format(LABEL_DISTRIBUTION1[0]))\n",
    "print('Positives: {}'.format(LABEL_DISTRIBUTION1[1]))\n",
    "print('Total: {}'.format(LABEL_DISTRIBUTION1[2]))"
   ]
  },
  {
   "cell_type": "code",
   "execution_count": 212,
   "metadata": {},
   "outputs": [
    {
     "name": "stdout",
     "output_type": "stream",
     "text": [
      "Negatives: [ 26609.  27871.  26437.  24136.  20409.]\n",
      "Positives: [ 3472.  2437.  1733.  3539.  9002.]\n",
      "Total: [ 31413.  31413.  31413.  31413.  31413.]\n"
     ]
    }
   ],
   "source": [
    "LABEL_DISTRIBUTION2 = [np.zeros(len(CLASS_NAMES)), np.zeros(len(CLASS_NAMES)), np.zeros(len(CLASS_NAMES))]\n",
    "\n",
    "for study in dataset2.studies:\n",
    "    LABEL_DISTRIBUTION2[0] += (study['labels'] == 0) * study['mask']\n",
    "    LABEL_DISTRIBUTION2[1] += (study['labels'] == 1) * study['mask']\n",
    "    LABEL_DISTRIBUTION2[2] += np.ones_like(study['labels'])\n",
    "    \n",
    "print('Negatives: {}'.format(LABEL_DISTRIBUTION2[0]))\n",
    "print('Positives: {}'.format(LABEL_DISTRIBUTION2[1]))\n",
    "print('Total: {}'.format(LABEL_DISTRIBUTION2[2]))"
   ]
  },
  {
   "cell_type": "code",
   "execution_count": 213,
   "metadata": {},
   "outputs": [
    {
     "data": {
      "image/png": "[encoded data removed]",
      "text/plain": [
       "<Figure size 1800x360 with 3 Axes>"
      ]
     },
     "metadata": {},
     "output_type": "display_data"
    }
   ],
   "source": [
    "NEGATIVE_DISTRIBUTION1 = LABEL_DISTRIBUTION1[0] / LABEL_DISTRIBUTION1[2] * 100\n",
    "POSITIVE_DISTRIBUTION1 = LABEL_DISTRIBUTION1[1] / LABEL_DISTRIBUTION1[2] * 100\n",
    "UNCERTAIN_DISTRIBUTION1 = (LABEL_DISTRIBUTION1[2] - LABEL_DISTRIBUTION1[1] - LABEL_DISTRIBUTION1[0]) / LABEL_DISTRIBUTION1[2] * 100\n",
    "\n",
    "NEGATIVE_DISTRIBUTION2 = LABEL_DISTRIBUTION2[0] / LABEL_DISTRIBUTION2[2] * 100\n",
    "POSITIVE_DISTRIBUTION2 = LABEL_DISTRIBUTION2[1] / LABEL_DISTRIBUTION2[2] * 100\n",
    "UNCERTAIN_DISTRIBUTION2 = (LABEL_DISTRIBUTION2[2] - LABEL_DISTRIBUTION2[1] - LABEL_DISTRIBUTION2[0]) / LABEL_DISTRIBUTION2[2] * 100\n",
    "\n",
    "BAR_WIDTH = 0.8\n",
    "FIGURE, AXES = plt.subplots(ncols=3)\n",
    "FIGURE.set_figwidth(25)\n",
    "FIGURE.set_figheight(5)\n",
    "\n",
    "b1 = AXES[0].bar(range(len(NEGATIVE_DISTRIBUTION1)), NEGATIVE_DISTRIBUTION1, width=BAR_WIDTH, label='Negative')\n",
    "b2 = AXES[0].bar(range(len(NEGATIVE_DISTRIBUTION1)), POSITIVE_DISTRIBUTION1, width=BAR_WIDTH, bottom=NEGATIVE_DISTRIBUTION1, label='Positive')\n",
    "b3 = AXES[0].bar(range(len(NEGATIVE_DISTRIBUTION1)), UNCERTAIN_DISTRIBUTION1, width=BAR_WIDTH, bottom=(POSITIVE_DISTRIBUTION1 + NEGATIVE_DISTRIBUTION1),label='Uncertain')\n",
    "\n",
    "b4 = AXES[1].bar(range(len(NEGATIVE_DISTRIBUTION2)), NEGATIVE_DISTRIBUTION2, width=BAR_WIDTH, label='Negative')\n",
    "b5 = AXES[1].bar(range(len(NEGATIVE_DISTRIBUTION2)), POSITIVE_DISTRIBUTION2, width=BAR_WIDTH, bottom=NEGATIVE_DISTRIBUTION2, label='Positive')\n",
    "b6 = AXES[1].bar(range(len(NEGATIVE_DISTRIBUTION2)), UNCERTAIN_DISTRIBUTION2, width=BAR_WIDTH, bottom=(POSITIVE_DISTRIBUTION2 + NEGATIVE_DISTRIBUTION2),label='Uncertain')\n",
    "\n",
    "b7 = AXES[2].bar(range(len(NEGATIVE_DISTRIBUTION2)), NEGATIVE_DISTRIBUTION1 - NEGATIVE_DISTRIBUTION2, width=0.3, label='Negative')\n",
    "b8 = AXES[2].bar([x + 0.33 for x in range(len(NEGATIVE_DISTRIBUTION2))], POSITIVE_DISTRIBUTION1 - POSITIVE_DISTRIBUTION2, width=0.3, label='Positive')\n",
    "b9 = AXES[2].bar([x + 0.66 for x in range(len(NEGATIVE_DISTRIBUTION2))], UNCERTAIN_DISTRIBUTION1 - UNCERTAIN_DISTRIBUTION2, width=0.3, label='Uncertain')\n",
    "\n",
    "\n",
    "# AXES[1].bar(range(len(NEGATIVE_DISTRIBUTION2)), POSITIVE_DISTRIBUTION2, width=BAR_WIDTH, bottom=NEGATIVE_DISTRIBUTION2, label='Positive')\n",
    "# AXES[1].bar(range(len(NEGATIVE_DISTRIBUTION2)), UNCERTAIN_DISTRIBUTION2, width=BAR_WIDTH, bottom=(POSITIVE_DISTRIBUTION2 + NEGATIVE_DISTRIBUTION2),label='Uncertain')\n",
    "\n",
    "# AXES[0].xlabel('% of Total Labels' )\n",
    "AXES[0].set_xticks([x for x in range(len(NEGATIVE_DISTRIBUTION1))])\n",
    "AXES[0].set_xticklabels(CLASS_NAMES, rotation=0)\n",
    "# AXES[1].get_yaxis().set_visible(False)\n",
    "AXES[1].set_xticks([x for x in range(len(NEGATIVE_DISTRIBUTION1))])\n",
    "AXES[1].set_xticklabels(CLASS_NAMES, rotation=0)\n",
    "# AXES[2].get_yaxis().set_visible(False)\n",
    "AXES[2].set_xticks([x + 0.5 for x in range(len(NEGATIVE_DISTRIBUTION1))])\n",
    "AXES[2].set_xticklabels(CLASS_NAMES, rotation=0)\n",
    "\n",
    "AXES[0].set_title('CheXpert Dataset')\n",
    "AXES[1].set_title('Curated CheXpert Dataset')\n",
    "AXES[2].set_title('% Change in Label Distribution')\n",
    "\n",
    "AXES[2].legend([b7, b8, b9], ['Negative', 'Positive', 'Uncertain'], bbox_to_anchor=(1.04, 0.5), loc='center left')\n",
    "# plt.legend(bbox_to_anchor=(1.04, 1), loc='upper left')\n",
    "# FIGURE.legend(loc='lower left', mode='expand', ncol=3)\n",
    "\n",
    "plt.show()"
   ]
  },
  {
   "cell_type": "code",
   "execution_count": null,
   "metadata": {},
   "outputs": [],
   "source": []
  },
  {
   "cell_type": "code",
   "execution_count": null,
   "metadata": {},
   "outputs": [],
   "source": []
  },
  {
   "cell_type": "code",
   "execution_count": null,
   "metadata": {},
   "outputs": [],
   "source": []
  },
  {
   "cell_type": "code",
   "execution_count": null,
   "metadata": {},
   "outputs": [],
   "source": []
  },
  {
   "cell_type": "code",
   "execution_count": null,
   "metadata": {},
   "outputs": [],
   "source": []
  },
  {
   "cell_type": "code",
   "execution_count": null,
   "metadata": {},
   "outputs": [],
   "source": []
  },
  {
   "cell_type": "code",
   "execution_count": null,
   "metadata": {},
   "outputs": [],
   "source": []
  },
  {
   "cell_type": "code",
   "execution_count": null,
   "metadata": {},
   "outputs": [],
   "source": []
  },
  {
   "cell_type": "code",
   "execution_count": null,
   "metadata": {},
   "outputs": [],
   "source": []
  },
  {
   "cell_type": "code",
   "execution_count": null,
   "metadata": {},
   "outputs": [],
   "source": []
  },
  {
   "cell_type": "code",
   "execution_count": null,
   "metadata": {},
   "outputs": [],
   "source": []
  },
  {
   "cell_type": "code",
   "execution_count": null,
   "metadata": {},
   "outputs": [],
   "source": []
  }
 ],
 "metadata": {
  "kernelspec": {
   "display_name": "Python 2",
   "language": "python",
   "name": "python2"
  },
  "language_info": {
   "codemirror_mode": {
    "name": "ipython",
    "version": 2
   },
   "file_extension": ".py",
   "mimetype": "text/x-python",
   "name": "python",
   "nbconvert_exporter": "python",
   "pygments_lexer": "ipython2",
   "version": "2.7.6"
  }
 },
 "nbformat": 4,
 "nbformat_minor": 2
}
