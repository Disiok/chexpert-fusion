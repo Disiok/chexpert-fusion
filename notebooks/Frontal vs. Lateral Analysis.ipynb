{
 "cells": [
  {
   "cell_type": "code",
   "execution_count": 34,
   "metadata": {},
   "outputs": [],
   "source": [
    "import sys\n",
    "sys.path.append('/home/kelvin.wong/Developer/chexpert-fusion/fusion_experiments')\n",
    "\n",
    "import os\n",
    "import torch\n",
    "import numpy as np\n",
    "import pandas as pd\n",
    "import seaborn as sns\n",
    "import matplotlib.pyplot as plt\n",
    "\n",
    "%matplotlib inline"
   ]
  },
  {
   "cell_type": "code",
   "execution_count": 54,
   "metadata": {},
   "outputs": [],
   "source": [
    "from config.chexpert import PAPER_TRAINING_CLASSES\n",
    "\n",
    "DATASET_PATH = '/home/kelvin.wong/Datasets/CheXpert-v1.0/train/'\n",
    "\n",
    "FRONTAL_EXPERIMENT_PATH = '/home/kelvin.wong/experiments/chexpert_baseline_frontal_test_kelvin/'\n",
    "FRONTAL_PREDICTIONS_PATH = os.path.join(FRONTAL_EXPERIMENT_PATH, 'predictions')\n",
    "\n",
    "LATERAL_EXPERIMENT_PATH = '/home/kelvin.wong/experiments/chexpert_baseline_lateral_test_kelvin/'\n",
    "LATERAL_PREDICTIONS_PATH = os.path.join(EXPERIMENT_PATH, 'predictions')\n",
    "\n",
    "def compute_class_to_sorted_studies(predictions_path, classes):\n",
    "    study_to_deltas = {}\n",
    "    for study_fn in os.listdir(predictions_path):\n",
    "        result = torch.load(os.path.join(predictions_path, study_fn))\n",
    "        study_to_deltas[(result['patient'], result['study_id'])] = (result['labels'] - result['scores'], result['labels'], result['mask'], result['scores'])\n",
    "\n",
    "    class_to_sorted_studies = {}\n",
    "    for i, class_name in enumerate(classes):\n",
    "        all_deltas = []\n",
    "        for (patient_id, study_id), (deltas, labels, mask, scores) in study_to_deltas.items():\n",
    "            all_deltas.append((patient_id, study_id, deltas[i], labels[i], mask[i], scores[i]))\n",
    "        class_to_sorted_studies[class_name] = sorted(all_deltas, key=lambda x: x[2], reverse=True)\n",
    "        \n",
    "    return class_to_sorted_studies"
   ]
  },
  {
   "cell_type": "code",
   "execution_count": 57,
   "metadata": {},
   "outputs": [],
   "source": [
    "frontal_class_to_sorted_studies = compute_class_to_sorted_studies(FRONTAL_PREDICTIONS_PATH, PAPER_TRAINING_CLASSES)\n",
    "lateral_class_to_sorted_studies = compute_class_to_sorted_studies(LATERAL_PREDICTIONS_PATH, PAPER_TRAINING_CLASSES)\n",
    "\n",
    "combined_class_to_sorted_studies = {}\n",
    "for class_name in frontal_class_to_sorted_studies.keys():\n",
    "    frontal = frontal_class_to_sorted_studies[class_name]\n",
    "    lateral = lateral_class_to_sorted_studies[class_name]\n",
    "    combined = [(f[0], f[1], f[2] - l[2], f[3], f[4], f[5], l[5]) for f, l in zip(frontal, lateral)]\n",
    "    combined_class_to_sorted_studies[class_name] = sorted(combined, key=lambda x: x[2], reverse=True)"
   ]
  },
  {
   "cell_type": "code",
   "execution_count": 58,
   "metadata": {},
   "outputs": [
    {
     "name": "stdout",
     "output_type": "stream",
     "text": [
      "['Cardiomegaly', 'Edema', 'Consolidation', 'Atelectasis', 'Pleural Effusion']\n",
      "Class: Cardiomegaly Delta: 0.0497046858072, Path: /home/kelvin.wong/Datasets/CheXpert-v1.0/train/patient45220/study1, Label: 1, Mask: 1.0, Frontal Score: 0.168845742941 Lateral Score: 0.218550428748\n",
      "Class: Cardiomegaly Delta: 0.0492539703846, Path: /home/kelvin.wong/Datasets/CheXpert-v1.0/train/patient00111/study1, Label: 1, Mask: 1.0, Frontal Score: 0.162054926157 Lateral Score: 0.211308896542\n",
      "Class: Cardiomegaly Delta: 0.042012989521, Path: /home/kelvin.wong/Datasets/CheXpert-v1.0/train/patient19818/study1, Label: 1, Mask: 1.0, Frontal Score: 0.357201218605 Lateral Score: 0.399214208126\n",
      "Class: Cardiomegaly Delta: 0.0393134355545, Path: /home/kelvin.wong/Datasets/CheXpert-v1.0/train/patient10654/study2, Label: 1, Mask: 1.0, Frontal Score: 0.126344025135 Lateral Score: 0.16565746069\n",
      "Class: Cardiomegaly Delta: 0.0385549739003, Path: /home/kelvin.wong/Datasets/CheXpert-v1.0/train/patient44580/study2, Label: 1, Mask: 1.0, Frontal Score: 0.123659275472 Lateral Score: 0.162214249372\n",
      "Class: Cardiomegaly Delta: 0.0375587493181, Path: /home/kelvin.wong/Datasets/CheXpert-v1.0/train/patient50296/study1, Label: 1, Mask: 1.0, Frontal Score: 0.122358888388 Lateral Score: 0.159917637706\n",
      "Class: Cardiomegaly Delta: 0.0374635905027, Path: /home/kelvin.wong/Datasets/CheXpert-v1.0/train/patient40541/study4, Label: 1, Mask: 1.0, Frontal Score: 0.123076662421 Lateral Score: 0.160540252924\n",
      "Class: Cardiomegaly Delta: 0.0358068048954, Path: /home/kelvin.wong/Datasets/CheXpert-v1.0/train/patient58465/study2, Label: 1, Mask: 1.0, Frontal Score: 0.341020196676 Lateral Score: 0.376827001572\n",
      "Class: Cardiomegaly Delta: 0.0341510772705, Path: /home/kelvin.wong/Datasets/CheXpert-v1.0/train/patient15770/study2, Label: 1, Mask: 1.0, Frontal Score: 0.356728971004 Lateral Score: 0.390880048275\n",
      "Class: Cardiomegaly Delta: 0.033686093986, Path: /home/kelvin.wong/Datasets/CheXpert-v1.0/train/patient59031/study1, Label: 1, Mask: 1.0, Frontal Score: 0.121357403696 Lateral Score: 0.155043497682\n",
      "Class: Edema Delta: 0.0195465683937, Path: /home/kelvin.wong/Datasets/CheXpert-v1.0/train/patient01264/study1, Label: 1, Mask: 1.0, Frontal Score: 0.0191438645124 Lateral Score: 0.0386904329062\n",
      "Class: Edema Delta: 0.0193129871041, Path: /home/kelvin.wong/Datasets/CheXpert-v1.0/train/patient09440/study1, Label: 1, Mask: 1.0, Frontal Score: 0.0206067804247 Lateral Score: 0.0399197675288\n",
      "Class: Edema Delta: 0.0170081406832, Path: /home/kelvin.wong/Datasets/CheXpert-v1.0/train/patient12471/study2, Label: 1, Mask: 1.0, Frontal Score: 0.025216832757 Lateral Score: 0.0422249734402\n",
      "Class: Edema Delta: 0.0134994126856, Path: /home/kelvin.wong/Datasets/CheXpert-v1.0/train/patient09467/study1, Label: 1, Mask: 1.0, Frontal Score: 0.0295180082321 Lateral Score: 0.0430174209177\n",
      "Class: Edema Delta: 0.0125675052404, Path: /home/kelvin.wong/Datasets/CheXpert-v1.0/train/patient19377/study4, Label: 1, Mask: 1.0, Frontal Score: 0.0811569839716 Lateral Score: 0.093724489212\n",
      "Class: Edema Delta: 0.010897051543, Path: /home/kelvin.wong/Datasets/CheXpert-v1.0/train/patient28422/study7, Label: 1, Mask: 1.0, Frontal Score: 0.0176191069186 Lateral Score: 0.0285161584616\n",
      "Class: Edema Delta: 0.0101394494995, Path: /home/kelvin.wong/Datasets/CheXpert-v1.0/train/patient46935/study2, Label: 1, Mask: 1.0, Frontal Score: 0.0134782651439 Lateral Score: 0.0236177146435\n",
      "Class: Edema Delta: 0.00966144353151, Path: /home/kelvin.wong/Datasets/CheXpert-v1.0/train/patient36622/study4, Label: 1, Mask: 1.0, Frontal Score: 0.075597435236 Lateral Score: 0.0852588787675\n",
      "Class: Edema Delta: 0.00633894652128, Path: /home/kelvin.wong/Datasets/CheXpert-v1.0/train/patient37845/study1, Label: 1, Mask: 1.0, Frontal Score: 0.0400619320571 Lateral Score: 0.0464008785784\n",
      "Class: Edema Delta: 0.00561970286071, Path: /home/kelvin.wong/Datasets/CheXpert-v1.0/train/patient03411/study1, Label: 1, Mask: 1.0, Frontal Score: 0.0119594521821 Lateral Score: 0.0175791550428\n",
      "Class: Consolidation Delta: 0.0247487612069, Path: /home/kelvin.wong/Datasets/CheXpert-v1.0/train/patient10791/study4, Label: 1, Mask: 1.0, Frontal Score: 0.046586368233 Lateral Score: 0.0713351294398\n",
      "Class: Consolidation Delta: 0.0243162475526, Path: /home/kelvin.wong/Datasets/CheXpert-v1.0/train/patient26522/study8, Label: 1, Mask: 1.0, Frontal Score: 0.0548789687455 Lateral Score: 0.0791952162981\n",
      "Class: Consolidation Delta: 0.0232650712132, Path: /home/kelvin.wong/Datasets/CheXpert-v1.0/train/patient22980/study1, Label: 1, Mask: 1.0, Frontal Score: 0.073571741581 Lateral Score: 0.0968368127942\n",
      "Class: Consolidation Delta: 0.0214303545654, Path: /home/kelvin.wong/Datasets/CheXpert-v1.0/train/patient20689/study1, Label: 1, Mask: 1.0, Frontal Score: 0.0453936122358 Lateral Score: 0.0668239668012\n",
      "Class: Consolidation Delta: 0.0199956670403, Path: /home/kelvin.wong/Datasets/CheXpert-v1.0/train/patient00399/study1, Label: 1, Mask: 1.0, Frontal Score: 0.0728418529034 Lateral Score: 0.0928375199437\n",
      "Class: Consolidation Delta: 0.0198842063546, Path: /home/kelvin.wong/Datasets/CheXpert-v1.0/train/patient31054/study1, Label: 1, Mask: 1.0, Frontal Score: 0.0536408126354 Lateral Score: 0.07352501899\n",
      "Class: Consolidation Delta: 0.0181816741824, Path: /home/kelvin.wong/Datasets/CheXpert-v1.0/train/patient15461/study1, Label: 1, Mask: 1.0, Frontal Score: 0.072161115706 Lateral Score: 0.0903427898884\n",
      "Class: Consolidation Delta: 0.0179192721844, Path: /home/kelvin.wong/Datasets/CheXpert-v1.0/train/patient20060/study1, Label: 1, Mask: 1.0, Frontal Score: 0.0725860893726 Lateral Score: 0.090505361557\n",
      "Class: Consolidation Delta: 0.0178357586265, Path: /home/kelvin.wong/Datasets/CheXpert-v1.0/train/patient38366/study1, Label: 1, Mask: 1.0, Frontal Score: 0.107522301376 Lateral Score: 0.125358060002\n",
      "Class: Consolidation Delta: 0.0176561698318, Path: /home/kelvin.wong/Datasets/CheXpert-v1.0/train/patient21438/study1, Label: 1, Mask: 1.0, Frontal Score: 0.0994193330407 Lateral Score: 0.117075502872\n",
      "Class: Atelectasis Delta: 0.028268456459, Path: /home/kelvin.wong/Datasets/CheXpert-v1.0/train/patient07110/study1, Label: 1, Mask: 1.0, Frontal Score: 0.183046996593 Lateral Score: 0.211315453053\n",
      "Class: Atelectasis Delta: 0.0271442830563, Path: /home/kelvin.wong/Datasets/CheXpert-v1.0/train/patient18470/study18, Label: 1, Mask: 1.0, Frontal Score: 0.288554757833 Lateral Score: 0.31569904089\n",
      "Class: Atelectasis Delta: 0.0250691771507, Path: /home/kelvin.wong/Datasets/CheXpert-v1.0/train/patient11493/study12, Label: 1, Mask: 1.0, Frontal Score: 0.160024285316 Lateral Score: 0.185093462467\n",
      "Class: Atelectasis Delta: 0.0239728987217, Path: /home/kelvin.wong/Datasets/CheXpert-v1.0/train/patient31904/study3, Label: 1, Mask: 1.0, Frontal Score: 0.149665817618 Lateral Score: 0.17363871634\n",
      "Class: Atelectasis Delta: 0.023294121027, Path: /home/kelvin.wong/Datasets/CheXpert-v1.0/train/patient16388/study4, Label: 1, Mask: 1.0, Frontal Score: 0.276561707258 Lateral Score: 0.299855828285\n",
      "Class: Atelectasis Delta: 0.0231970399618, Path: /home/kelvin.wong/Datasets/CheXpert-v1.0/train/patient11582/study27, Label: 1, Mask: 1.0, Frontal Score: 0.140807822347 Lateral Score: 0.164004862309\n",
      "Class: Atelectasis Delta: 0.0223895907402, Path: /home/kelvin.wong/Datasets/CheXpert-v1.0/train/patient31040/study1, Label: 1, Mask: 1.0, Frontal Score: 0.14829261601 Lateral Score: 0.17068220675\n",
      "Class: Atelectasis Delta: 0.0222222357988, Path: /home/kelvin.wong/Datasets/CheXpert-v1.0/train/patient00164/study1, Label: 1, Mask: 1.0, Frontal Score: 0.14419285953 Lateral Score: 0.166415095329\n",
      "Class: Atelectasis Delta: 0.0222056955099, Path: /home/kelvin.wong/Datasets/CheXpert-v1.0/train/patient33481/study3, Label: 1, Mask: 1.0, Frontal Score: 0.194485217333 Lateral Score: 0.216690912843\n",
      "Class: Atelectasis Delta: 0.021555274725, Path: /home/kelvin.wong/Datasets/CheXpert-v1.0/train/patient07205/study1, Label: 1, Mask: 1.0, Frontal Score: 0.287907898426 Lateral Score: 0.309463173151\n",
      "Class: Pleural Effusion Delta: 0.273444414139, Path: /home/kelvin.wong/Datasets/CheXpert-v1.0/train/patient26522/study8, Label: 1, Mask: 1.0, Frontal Score: 0.335588932037 Lateral Score: 0.609033346176\n",
      "Class: Pleural Effusion Delta: 0.272134512663, Path: /home/kelvin.wong/Datasets/CheXpert-v1.0/train/patient16951/study1, Label: 1, Mask: 1.0, Frontal Score: 0.33831551671 Lateral Score: 0.610450029373\n",
      "Class: Pleural Effusion Delta: 0.266942918301, Path: /home/kelvin.wong/Datasets/CheXpert-v1.0/train/patient04551/study1, Label: 1, Mask: 1.0, Frontal Score: 0.34534651041 Lateral Score: 0.612289428711\n",
      "Class: Pleural Effusion Delta: 0.265178501606, Path: /home/kelvin.wong/Datasets/CheXpert-v1.0/train/patient13351/study1, Label: 1, Mask: 1.0, Frontal Score: 0.348599135876 Lateral Score: 0.613777637482\n",
      "Class: Pleural Effusion Delta: 0.264376699924, Path: /home/kelvin.wong/Datasets/CheXpert-v1.0/train/patient32728/study7, Label: 1, Mask: 1.0, Frontal Score: 0.348124086857 Lateral Score: 0.612500786781\n",
      "Class: Pleural Effusion Delta: 0.262882530689, Path: /home/kelvin.wong/Datasets/CheXpert-v1.0/train/patient47923/study4, Label: 1, Mask: 1.0, Frontal Score: 0.329046607018 Lateral Score: 0.591929137707\n",
      "Class: Pleural Effusion Delta: 0.260740906, Path: /home/kelvin.wong/Datasets/CheXpert-v1.0/train/patient17681/study22, Label: 1, Mask: 1.0, Frontal Score: 0.298116475344 Lateral Score: 0.558857381344\n",
      "Class: Pleural Effusion Delta: 0.256279885769, Path: /home/kelvin.wong/Datasets/CheXpert-v1.0/train/patient19818/study1, Label: 1, Mask: 1.0, Frontal Score: 0.359284639359 Lateral Score: 0.615564525127\n",
      "Class: Pleural Effusion Delta: 0.254592120647, Path: /home/kelvin.wong/Datasets/CheXpert-v1.0/train/patient51152/study2, Label: 1, Mask: 1.0, Frontal Score: 0.31684678793 Lateral Score: 0.571438908577\n",
      "Class: Pleural Effusion Delta: 0.254527002573, Path: /home/kelvin.wong/Datasets/CheXpert-v1.0/train/patient20014/study6, Label: 1, Mask: 1.0, Frontal Score: 0.366088837385 Lateral Score: 0.620615839958\n"
     ]
    }
   ],
   "source": [
    "print(PAPER_TRAINING_CLASSES)\n",
    "for i, class_name in enumerate(PAPER_TRAINING_CLASSES):\n",
    "    count = 0\n",
    "    studies = combined_class_to_sorted_studies[class_name]\n",
    "    for study in studies:\n",
    "        if count >= 10:\n",
    "            break\n",
    "        if study[3] == 1 and study[4] == 1:\n",
    "            count += 1\n",
    "            print('Class: {} Delta: {}, Path: {}, Label: {}, Mask: {}, Frontal Score: {} Lateral Score: {}'\n",
    "                .format(class_name, study[2], os.path.join(DATASET_PATH, study[0], study[1]),\n",
    "                        study[3], study[4], study[5], study[6]\n",
    "            ))"
   ]
  }
 ],
 "metadata": {
  "kernelspec": {
   "display_name": "Python 2",
   "language": "python",
   "name": "python2"
  },
  "language_info": {
   "codemirror_mode": {
    "name": "ipython",
    "version": 2
   },
   "file_extension": ".py",
   "mimetype": "text/x-python",
   "name": "python",
   "nbconvert_exporter": "python",
   "pygments_lexer": "ipython2",
   "version": "2.7.6"
  }
 },
 "nbformat": 4,
 "nbformat_minor": 2
}
